{
 "cells": [
  {
   "cell_type": "markdown",
   "metadata": {},
   "source": [
    "Q1: How many multiplications and additions do you need to perform a matrix multiplication between a (n, k) and (k, m) matrix? Explain."
   ]
  },
  {
   "cell_type": "markdown",
   "metadata": {},
   "source": [
    "You perform k multiplications for all n * m elements in the resulting matrix, the total number of multiplications is n*m*k.\n",
    "Also we perform k-1 additions between k elements for all n * m elements in the resulting matrix, the total number of additions is n * m * (k - 1)\n",
    "\n",
    "Multiplications: nkm\n",
    "\n",
    "Additions: nk(m-1)"
   ]
  },
  {
   "cell_type": "markdown",
   "metadata": {},
   "source": [
    "Q2: Write Python code to multiply the above two matrices. Solve using list of lists and then use numpy. Compare the timing of both solutions. Which one is faster? Why?"
   ]
  },
  {
   "cell_type": "code",
   "execution_count": null,
   "metadata": {},
   "outputs": [],
   "source": [
    "import random\n",
    "import time\n",
    "import numpy as np\n",
    "n=4\n",
    "k=5\n",
    "m=6\n",
    "\n",
    "def make_list(a,b):\n",
    "    lst=[]\n",
    "    L=[]\n",
    "    for i in range(a):\n",
    "        lst=[]\n",
    "        for j in range(b):\n",
    "            lst.append(random.randint(0,10))\n",
    "        L.append(lst)\n",
    "    return L\n",
    "\n",
    "mat1=make_list(n,k)\n",
    "mat2=make_list(k,m)"
   ]
  },
  {
   "cell_type": "code",
   "execution_count": null,
   "metadata": {},
   "outputs": [
    {
     "name": "stdout",
     "output_type": "stream",
     "text": [
      "[[135, 78, 127, 66, 61, 120], [115, 106, 163, 62, 83, 144], [145, 61, 68, 121, 80, 116], [110, 77, 116, 52, 62, 108]]\n",
      "The time taken without numpy is 0.0010786056518554688\n",
      "[[135  78 127  66  61 120]\n",
      " [115 106 163  62  83 144]\n",
      " [145  61  68 121  80 116]\n",
      " [110  77 116  52  62 108]]\n",
      "The time taken with numpy is 0.0\n"
     ]
    }
   ],
   "source": [
    "#multiply without numpy\n",
    "t1=time.time()\n",
    "sum=0\n",
    "L=[]\n",
    "lst=[]\n",
    "for i in range(n):\n",
    "  x=0\n",
    "  while x<m:\n",
    "    for j in range(k): #n1 or m2 (they are equal for matrix multiplication)\n",
    "      sum+=mat1[i][j]*mat2[j][x]\n",
    "    lst.append(sum)\n",
    "    x+=1\n",
    "    sum=0\n",
    "  L.append(lst)\n",
    "  lst=[]\n",
    "print(L)\n",
    "t2=time.time()\n",
    "print(\"The time taken without numpy is\", t2-t1)\n",
    "\n",
    "#multiply with numpy\n",
    "t1=time.time()\n",
    "mat1=np.array(mat1)\n",
    "mat2=np.array(mat2)\n",
    "product=np.dot(mat1, mat2)\n",
    "print(product)\n",
    "t2=time.time()\n",
    "print(\"The time taken with numpy is\", t2-t1)"
   ]
  },
  {
   "cell_type": "markdown",
   "metadata": {},
   "source": [
    "The time taken for numpy is lesser due to its use of low level languages and vectorizations which avoid the need for explicit loops."
   ]
  },
  {
   "cell_type": "markdown",
   "metadata": {},
   "source": [
    "Q3: Finding the highest element in a list requires one pass of the array. Finding the second highest element requires 2 passes of the the array. Using this method, what is the time complexity of finding the median of the array? Can you suggest a better method? Can you implement both these methods in Python and compare against numpy.median routine in terms of time?"
   ]
  },
  {
   "cell_type": "markdown",
   "metadata": {},
   "source": [
    "The first one is a naive method which simply iterates through the array, removes the largest element at each pass to find the correct median.\n",
    "We know that sorting is the costly operation here.\n",
    "We could also use algorithms like quicksort, mergesort, etc. to achieve a time complexity of O(nlogn) while sorting then find the median using the index."
   ]
  },
  {
   "cell_type": "code",
   "execution_count": 2,
   "metadata": {},
   "outputs": [
    {
     "name": "stdout",
     "output_type": "stream",
     "text": [
      "The median by naive is:  4.5\n",
      "Time taken by naive method:  0.0\n",
      "The median is:  4.5\n",
      "Time by sorting:  0.0\n",
      "Median by numpy:  4.5\n",
      "Time taken by Numpy:  0.0\n"
     ]
    }
   ],
   "source": [
    "import numpy as np\n",
    "import time\n",
    "#naive\n",
    "\n",
    "n=6\n",
    "arr=[8,7,2,3,4,5]\n",
    "\n",
    "t1=time.time()\n",
    "def find_ele(arr,k):\n",
    "    arr_copy=arr.copy()\n",
    "    while k>0:\n",
    "        max=arr_copy[0]\n",
    "        for i in range(len(arr_copy)):\n",
    "            if arr_copy[i]>max:\n",
    "                max=arr_copy[i]\n",
    "        arr_copy.remove(max)\n",
    "        k=k-1\n",
    "    return max\n",
    "\n",
    "if n%2==0:\n",
    "    n1=find_ele(arr,n//2)\n",
    "    n2=find_ele(arr,n//2+1)\n",
    "    print('The median by naive is: ',(n1+n2)/2)\n",
    "else:\n",
    "    print('The median by naive is: ', find_ele(arr,n//2+1))\n",
    "t2=time.time()\n",
    "\n",
    "print(\"Time taken by naive method: \", t2-t1)\n",
    "\n",
    "#better methpd\n",
    "t1=time.time()\n",
    "arr=[8,7,2,3,4,5]\n",
    "def partition(arr,pivot):\n",
    "  i=0\n",
    "  for k in range(1,len(arr)):\n",
    "    if arr[k]<pivot:\n",
    "      i+=1 #i keeps count of number of elements smaller than pivot\n",
    "      arr[k],arr[i]=arr[i],arr[k]\n",
    "  arr[0],arr[i]=arr[i],arr[0] #swapping pivot with one of the smaller elements\n",
    "  return i\n",
    "\n",
    "def quick_sort(arr):\n",
    "  if len(arr)<=1:\n",
    "    return arr\n",
    "  pivot=arr[0]\n",
    "  x=partition(arr,pivot)\n",
    "  left=arr[:x]\n",
    "  right=arr[x+1:]\n",
    "  left=quick_sort(left)\n",
    "  right=quick_sort(right)\n",
    "  return left+[pivot]+right\n",
    "\n",
    "sortedL=quick_sort(arr)\n",
    "if n%2==0:\n",
    "    n1=sortedL[n//2-1]\n",
    "    n2=sortedL[n//2]\n",
    "    print('The median is: ', (n1+n2)/2)\n",
    "else:\n",
    "    print('The median is: ', sortedL[n//2])\n",
    "t2=time.time()\n",
    "print(\"Time by sorting: \", t2-t1)\n",
    "\n",
    "#numpy median\n",
    "t1=time.time()\n",
    "arr_np=np.array(arr)\n",
    "med=np.median(arr_np)\n",
    "t2=time.time()\n",
    "print(\"Median by numpy: \", med)\n",
    "print(\"Time taken by Numpy: \", t2-t1)\n"
   ]
  },
  {
   "cell_type": "markdown",
   "metadata": {},
   "source": [
    "Q4: What is the gradient of the following function with respect to x and y?\n",
    "$$x^2y + y^3sin(x)$$"
   ]
  },
  {
   "cell_type": "markdown",
   "metadata": {},
   "source": [
    "Gradient with respect to x:\n",
    "$$\\frac{\\partial{f}}{\\partial{x}} = 2xy + y^3cos(x) $$\n",
    "Gradient with respect to y:\n",
    "$$ \\frac{\\partial{f}}{\\partial{y}}=x^2 + 3y^2sin(x) $$"
   ]
  },
  {
   "cell_type": "markdown",
   "metadata": {},
   "source": [
    "Q5: Use JAX to confirm the gradient evaluated by your method matches the analytical solution corresponding to a few random values of x and y"
   ]
  },
  {
   "cell_type": "code",
   "execution_count": 4,
   "metadata": {},
   "outputs": [],
   "source": [
    "import jax\n",
    "import jax.numpy as jnp"
   ]
  },
  {
   "cell_type": "code",
   "execution_count": 25,
   "metadata": {},
   "outputs": [
    {
     "name": "stdout",
     "output_type": "stream",
     "text": [
      "Gradient at (x=5.0, y=6.0): (Array(121.271034, dtype=float32, weak_type=True), Array(-78.56383, dtype=float32, weak_type=True))\n",
      "(Array(121.271034, dtype=float32, weak_type=True), Array(-78.56383, dtype=float32, weak_type=True))\n"
     ]
    }
   ],
   "source": [
    "def f(x, y):\n",
    "    return (x**2)*y+(y**3)*jnp.sin(x)\n",
    "\n",
    "gradient_jax = jax.grad(f, argnums=(0, 1))\n",
    "\n",
    "x = 5.0\n",
    "y = 6.0\n",
    "\n",
    "result_jax = gradient_jax(x, y)\n",
    "print(\"Gradient at (x={}, y={}): {}\".format(x, y, result_jax))\n",
    "\n",
    "analytical= (2*x*y+y**3*jnp.cos(x),x**2+3*y**2*jnp.sin(x))\n",
    "print(analytical)"
   ]
  },
  {
   "cell_type": "markdown",
   "metadata": {},
   "source": [
    "Q6: Use sympy to confirm that you obtain the same gradient analytically."
   ]
  },
  {
   "cell_type": "code",
   "execution_count": 13,
   "metadata": {},
   "outputs": [
    {
     "name": "stdout",
     "output_type": "stream",
     "text": [
      "Analytical Gradient (SymPy): [2*x*y + y**3*cos(x), x**2 + 3*y**2*sin(x)]\n",
      "Analytical Gradient Values (x=5, y=6): [60 + 216*cos(5), 108*sin(5) + 25]\n"
     ]
    }
   ],
   "source": [
    "import sympy as sp\n",
    "\n",
    "# Define symbols\n",
    "x, y = sp.symbols('x y')\n",
    "\n",
    "# Define the function\n",
    "f = x**2 * y + y**3 * sp.sin(x)\n",
    "\n",
    "# Calculate partial derivatives\n",
    "df_dx = sp.diff(f, x)\n",
    "df_dy = sp.diff(f, y)\n",
    "\n",
    "# Display the analytical gradient\n",
    "analytical_gradient_sympy = [df_dx, df_dy]\n",
    "print(\"Analytical Gradient (SymPy):\", analytical_gradient_sympy)\n",
    "\n",
    "# Define values for x and y\n",
    "x_val = 5\n",
    "y_val = 6\n",
    "\n",
    "# Substitute values into the analytical gradient\n",
    "analytical_gradient_values = [df_dx.subs({x: x_val, y: y_val}), df_dy.subs({x: x_val, y: y_val})]\n",
    "\n",
    "# Display the analytical gradient values\n",
    "print(\"Analytical Gradient Values (x=5, y=6):\", analytical_gradient_values)\n"
   ]
  },
  {
   "cell_type": "markdown",
   "metadata": {},
   "source": [
    "Q7: Create a Python nested dictionary to represent hierarchical information. We want to store record of students and their marks."
   ]
  },
  {
   "cell_type": "code",
   "execution_count": 16,
   "metadata": {},
   "outputs": [],
   "source": [
    "dict2022 = {\n",
    "    \"Electrical\": [\n",
    "        {\"Roll number\": 1, \"Name\": \"Nishi\", \"Marks\": {\"English\": 89, \"Math\": 90, \"Science\": 78}},\n",
    "        {\"Roll number\": 3, \"Name\": \"Sally\", \"Marks\": {\"English\": 75, \"Math\": 76, \"Science\": 88}}\n",
    "    ],\n",
    "    \"Computer Science\": {\n",
    "        \"Roll number\": 2, \"Name\": \"Paryusha\", \"Marks\": {\"English\": 79, \"Math\": 95, \"Science\": 88}\n",
    "    }\n",
    "}\n",
    "\n",
    "dict2023 = {}\n",
    "\n",
    "dict2024 ={}\n",
    "\n",
    "dict2025 = {}\n",
    "\n",
    "majordict = {2022: dict2022, 2023: dict2023, 2024: dict2024, 2025: dict2025}"
   ]
  },
  {
   "cell_type": "markdown",
   "metadata": {},
   "source": [
    "Q8: Store the same information using Python classes. We have an overall database which is a list of year objects. Each year contains a list of branches. Each branch contains a list of students. Each student has some properties like name, roll number and has marks in some subjects."
   ]
  },
  {
   "cell_type": "code",
   "execution_count": 17,
   "metadata": {},
   "outputs": [],
   "source": [
    "class Student:\n",
    "    def __init__(self, name, roll_number, marks):\n",
    "        self.name = name\n",
    "        self.roll_number = roll_number\n",
    "        self.marks = marks\n",
    "\n",
    "    def __str__(self):\n",
    "        return f\"Student(name={self.name}, roll_number={self.roll_number}, marks={self.marks})\"\n",
    "\n",
    "\n",
    "class Branch:\n",
    "    def __init__(self, name, students):\n",
    "        self.name = name\n",
    "        self.students = students\n",
    "\n",
    "    def __str__(self):\n",
    "        return f\"Branch(name={self.name}, students={self.students})\"\n",
    "\n",
    "\n",
    "class Year:\n",
    "    def __init__(self, year, branches):\n",
    "        self.year = year\n",
    "        self.branches = branches\n",
    "\n",
    "    def __str__(self):\n",
    "        return f\"Year(year={self.year}, branches={self.branches})\"\n",
    "\n",
    "\n",
    "# Example usage\n",
    "student1 = Student(name=\"Nishi\", roll_number=1, marks= {\"English\": 69, \"Math\": 83, \"Science\": 85})\n",
    "student2 = Student(name=\"Paryusha\", roll_number=3, marks={\"Math\": 88, \"English\": 92, \"Science\": 89})\n",
    "student3 = Student(name=\"Sally\", roll_number=2, marks={\"Math\": 83, \"English\": 72, \"Science\": 91})\n",
    "\n",
    "branch1 = Branch(name=\"Electrical\", students=[student1, student3])\n",
    "branch2 = Branch(name=\"Computer Science\", students=[student2])\n",
    "\n",
    "year2022 = Year(year=2022, branches=[branch1, branch2])\n",
    "year2023 = Year(year=2023, branches=[branch1, branch2])\n",
    "year2024 = Year(year=2024, branches=[branch1, branch2])\n",
    "year2025 = Year(year=2025, branches=[branch1])\n",
    "\n",
    "database = [year2022,year2023,year2024,year2025]"
   ]
  },
  {
   "cell_type": "markdown",
   "metadata": {},
   "source": [
    "Q9: Using matplotlib plot the following functions on the domain: x = 0.5 to 100.0 in steps of 0.5.\n",
    "1. $y=x$\n",
    "2. $y=x^2$\n",
    "3. $y= x^3/100$\n",
    "4. $y= sin(x)$\n",
    "5. $y= sin(x)/x$\n",
    "6. $y = log(x)$\n",
    "7. $y = e^x$"
   ]
  },
  {
   "cell_type": "code",
   "execution_count": 18,
   "metadata": {},
   "outputs": [
    {
     "data": {
      "image/png": "[encoded data removed]",
      "text/plain": [
       "<Figure size 1200x800 with 7 Axes>"
      ]
     },
     "metadata": {},
     "output_type": "display_data"
    }
   ],
   "source": [
    "\n",
    "import numpy as np\n",
    "import matplotlib.pyplot as plt\n",
    "\n",
    "# Define the domain\n",
    "x_values = np.arange(0.5, 100.1, 0.5)\n",
    "\n",
    "# Define the functions\n",
    "y1 = x_values\n",
    "y2 = x_values**2\n",
    "y3 = x_values**3 / 100\n",
    "y4 = np.sin(x_values)\n",
    "y5 = np.sin(x_values) / x_values\n",
    "y6 = np.log(x_values)\n",
    "y7 = np.exp(x_values)\n",
    "\n",
    "# Plot the functions\n",
    "plt.figure(figsize=(12, 8))\n",
    "\n",
    "plt.subplot(3, 3, 1)\n",
    "plt.plot(x_values, y1)\n",
    "plt.title('y=x')\n",
    "\n",
    "plt.subplot(3, 3, 2)\n",
    "plt.plot(x_values, y2)\n",
    "plt.title('y=x^2')\n",
    "\n",
    "plt.subplot(3, 3, 3)\n",
    "plt.plot(x_values, y3)\n",
    "plt.title('y=x^3/100')\n",
    "\n",
    "plt.subplot(3, 3, 4)\n",
    "plt.plot(x_values, y4)\n",
    "plt.title('y = sin(x)')\n",
    "\n",
    "plt.subplot(3, 3, 5)\n",
    "plt.plot(x_values, y5)\n",
    "plt.title('y =sin(x)/x')\n",
    "\n",
    "plt.subplot(3, 3, 6)\n",
    "plt.plot(x_values, y6)\n",
    "plt.title('y= log(x)')\n",
    "\n",
    "plt.subplot(3, 3, 7)\n",
    "plt.plot(x_values, y7)\n",
    "plt.title('y=e^x')\n",
    "\n",
    "plt.tight_layout()\n",
    "plt.show()\n"
   ]
  },
  {
   "cell_type": "markdown",
   "metadata": {},
   "source": [
    "Q10 : Using numpy generate a matrix of size 20X5 containing random numbers drawn uniformly from the range of 1 to 2. Using Pandas create a dataframe out of this matrix. Name the columns of the dataframe as “a”, “b”, “c”, “d”, “e”. Find the column with the highest standard deviation. Find the row with the lowest mean."
   ]
  },
  {
   "cell_type": "code",
   "execution_count": 19,
   "metadata": {},
   "outputs": [
    {
     "name": "stdout",
     "output_type": "stream",
     "text": [
      "DataFrame: \n",
      "            a         b         c         d         e\n",
      "0   1.898039  1.541259  1.605508  1.648572  1.952681\n",
      "1   1.736381  1.834542  1.391677  1.667446  1.722172\n",
      "2   1.783272  1.998501  1.460453  1.894929  1.672981\n",
      "3   1.144444  1.058332  1.403148  1.558591  1.426804\n",
      "4   1.842837  1.154604  1.439782  1.919362  1.994265\n",
      "5   1.451407  1.775327  1.873649  1.642344  1.332716\n",
      "6   1.584510  1.962708  1.900856  1.238675  1.849950\n",
      "7   1.816276  1.588128  1.878451  1.515857  1.885573\n",
      "8   1.720358  1.515663  1.637489  1.023690  1.243236\n",
      "9   1.698868  1.210350  1.170052  1.505373  1.433428\n",
      "10  1.371127  1.113511  1.093021  1.856460  1.178442\n",
      "11  1.328505  1.796129  1.468631  1.390682  1.283344\n",
      "12  1.473888  1.753510  1.262210  1.319706  1.188474\n",
      "13  1.383529  1.275027  1.388006  1.510333  1.094498\n",
      "14  1.312579  1.488069  1.905118  1.085503  1.099316\n",
      "15  1.143497  1.547887  1.411297  1.071103  1.557260\n",
      "16  1.841513  1.611836  1.678292  1.777396  1.653276\n",
      "17  1.272385  1.260059  1.483986  1.882421  1.176080\n",
      "18  1.987972  1.877047  1.135356  1.021354  1.115671\n",
      "19  1.421774  1.250658  1.812949  1.128805  1.620079\n",
      "\n",
      "\n",
      "a    0.261345\n",
      "b    0.296320\n",
      "c    0.258678\n",
      "d    0.308879\n",
      "e    0.304010\n",
      "dtype: float64\n",
      "The column with maximum standard deviation is:  d\n",
      "0     1.729212\n",
      "1     1.670444\n",
      "2     1.762027\n",
      "3     1.318264\n",
      "4     1.670170\n",
      "5     1.615088\n",
      "6     1.707340\n",
      "7     1.736857\n",
      "8     1.428087\n",
      "9     1.403614\n",
      "10    1.322512\n",
      "11    1.453458\n",
      "12    1.399558\n",
      "13    1.330278\n",
      "14    1.378117\n",
      "15    1.346209\n",
      "16    1.712462\n",
      "17    1.414986\n",
      "18    1.427480\n",
      "19    1.446853\n",
      "dtype: float64\n",
      "The row with lowest mean is:  3\n"
     ]
    }
   ],
   "source": [
    "import numpy as np\n",
    "import pandas as pd\n",
    "\n",
    "matrix = np.random.uniform(1, 2, size=(20, 5))\n",
    "df = pd.DataFrame(matrix, columns=[\"a\", \"b\", \"c\", \"d\", \"e\"])\n",
    "\n",
    "print(\"DataFrame: \\n\", df)\n",
    "\n",
    "# Find the column with the highest standard deviation\n",
    "std = df.std()\n",
    "print('\\n')\n",
    "print(std)\n",
    "print(\"The column with maximum standard deviation is: \", std.idxmax())\n",
    "\n",
    "mean = df.mean(axis=1)\n",
    "print(mean)\n",
    "print(\"The row with lowest mean is: \", mean.idxmin())\n"
   ]
  },
  {
   "cell_type": "markdown",
   "metadata": {},
   "source": [
    "Q11: Add a new column to the dataframe called “f” which is the sum of the columns “a”, “b”, “c”, “d”, “e”. Create another column called “g”. The value in the column “g” should be “LT8” if the value in the column “f” is less than 8 and “GT8” otherwise. Find the number of rows in the dataframe where the value in the column “g” is “LT8”. Find the standard deviation of the column “f” for the rows where the value in the column “g” is “LT8” and “GT8” respectively."
   ]
  },
  {
   "cell_type": "code",
   "execution_count": null,
   "metadata": {},
   "outputs": [
    {
     "name": "stdout",
     "output_type": "stream",
     "text": [
      "DataFrame:\n",
      "           a         b         c         d         e         f    g\n",
      "0   1.756348  1.390436  1.011754  1.759359  1.697829  7.615727  LT8\n",
      "1   1.942702  1.751248  1.609023  1.978302  1.772970  9.054245  GT8\n",
      "2   1.497457  1.022604  1.517283  1.719359  1.329542  7.086245  LT8\n",
      "3   1.234786  1.548496  1.391416  1.538937  1.717413  7.431048  LT8\n",
      "4   1.564084  1.992000  1.008980  1.841017  1.416918  7.822998  LT8\n",
      "5   1.919311  1.115857  1.621356  1.563723  1.753672  7.973918  LT8\n",
      "6   1.324818  1.761875  1.138711  1.418965  1.601785  7.246154  LT8\n",
      "7   1.601269  1.703718  1.258303  1.128966  1.450520  7.142775  LT8\n",
      "8   1.153261  1.029262  1.793384  1.405952  1.108170  6.490029  LT8\n",
      "9   1.403930  1.279080  1.823342  1.748287  1.490550  7.745189  LT8\n",
      "10  1.343408  1.862284  1.825321  1.531525  1.145708  7.708246  LT8\n",
      "11  1.756462  1.080575  1.415749  1.855638  1.453960  7.562384  LT8\n",
      "12  1.623679  1.102282  1.811908  1.673561  1.296001  7.507432  LT8\n",
      "13  1.052364  1.289669  1.779813  1.607288  1.973894  7.703028  LT8\n",
      "14  1.012718  1.612390  1.852626  1.726104  1.892595  8.096432  GT8\n",
      "15  1.684218  1.000831  1.690455  1.366813  1.914449  7.656766  LT8\n",
      "16  1.827799  1.542639  1.638897  1.164849  1.244555  7.418739  LT8\n",
      "17  1.695786  1.068926  1.088985  1.753590  1.252852  6.860140  LT8\n",
      "18  1.035554  1.479819  1.866146  1.677274  1.641357  7.700148  LT8\n",
      "19  1.983852  1.475161  1.868563  1.178485  1.042436  7.548497  LT8\n",
      "\n",
      "Number of rows where 'g' is 'LT8': 18\n",
      "Standard deviation of 'f' for 'LT8' rows: 0.3700692581669753\n",
      "Standard deviation of 'f' for 'GT8' rows: 0.6772757876778142\n"
     ]
    }
   ],
   "source": [
    "import numpy as np\n",
    "import pandas as pd\n",
    "\n",
    "# Generate a matrix of size 20x5 with random numbers in the range [1, 2)\n",
    "matrix = np.random.uniform(1, 2, size=(20, 5))\n",
    "\n",
    "# Create a Pandas DataFrame with column names \"a\", \"b\", \"c\", \"d\", \"e\"\n",
    "df = pd.DataFrame(matrix, columns=[\"a\", \"b\", \"c\", \"d\", \"e\"])\n",
    "\n",
    "# Add a new column \"f\" as the sum of columns \"a\", \"b\", \"c\", \"d\", \"e\"\n",
    "df['f'] = df[['a', 'b', 'c', 'd', 'e']].sum(axis=1)\n",
    "\n",
    "# Create a new column \"g\" based on the value in column \"f\"\n",
    "df['g'] = np.where(df['f'] < 8, 'LT8', 'GT8')\n",
    "\n",
    "# Find the number of rows where the value in column \"g\" is \"LT8\"\n",
    "num_lt8_rows = len(df[df['g'] == 'LT8'])\n",
    "\n",
    "# Find the standard deviation of column \"f\" for rows where \"g\" is \"LT8\" and \"GT8\"\n",
    "std_lt8 = df[df['g'] == 'LT8']['f'].std()\n",
    "std_gt8 = df[df['g'] == 'GT8']['f'].std()\n",
    "\n",
    "# Display the DataFrame\n",
    "print(\"DataFrame:\")\n",
    "print(df)\n",
    "\n",
    "# Display additional results\n",
    "print(\"\\nNumber of rows where 'g' is 'LT8':\", num_lt8_rows)\n",
    "print(\"Standard deviation of 'f' for 'LT8' rows:\", std_lt8)\n",
    "print(\"Standard deviation of 'f' for 'GT8' rows:\", std_gt8)\n"
   ]
  },
  {
   "cell_type": "markdown",
   "metadata": {},
   "source": [
    "Q12: Write a small piece of code to explain broadcasting in numpy."
   ]
  },
  {
   "cell_type": "code",
   "execution_count": null,
   "metadata": {},
   "outputs": [
    {
     "name": "stdout",
     "output_type": "stream",
     "text": [
      "Array 1:\n",
      "[[1 2 3]\n",
      " [4 5 6]]\n",
      "\n",
      "Array 2:\n",
      "[10 20 30]\n",
      "\n",
      "Result after broadcasting:\n",
      "[[11 22 33]\n",
      " [14 25 36]]\n"
     ]
    }
   ],
   "source": [
    "import numpy as np\n",
    "\n",
    "# Create a 2x3 array\n",
    "arr1 = np.array([[1, 2, 3],\n",
    "                 [4, 5, 6]])\n",
    "\n",
    "# Create a 1x3 array\n",
    "arr2 = np.array([10, 20, 30])\n",
    "\n",
    "# Perform element-wise addition using broadcasting\n",
    "result = arr1 + arr2\n",
    "\n",
    "# Display the original arrays and the result\n",
    "print(\"Array 1:\")\n",
    "print(arr1)\n",
    "\n",
    "print(\"\\nArray 2:\")\n",
    "print(arr2)\n",
    "\n",
    "print(\"\\nResult after broadcasting:\")\n",
    "print(result)"
   ]
  },
  {
   "cell_type": "markdown",
   "metadata": {},
   "source": [
    "Q13: Write a function to compute the argmin of a numpy array. The function should take a numpy array as input and return the index of the minimum element. You can use the np.argmin function to verify your solution."
   ]
  },
  {
   "cell_type": "code",
   "execution_count": 20,
   "metadata": {},
   "outputs": [
    {
     "name": "stdout",
     "output_type": "stream",
     "text": [
      "Custom argmin result: 8\n",
      "NumPy argmin result: 8\n"
     ]
    }
   ],
   "source": [
    "import numpy as np\n",
    "\n",
    "def my_argmin(arr):\n",
    "    min_value = np.min(arr)\n",
    "    index = np.where(arr == min_value)[0]\n",
    "    return index[0]\n",
    "\n",
    "arr = np.array([7,8,2,4,3,1,6,8,0])\n",
    "custom_index = my_argmin(arr)\n",
    "numpy_argmin = np.argmin(arr)\n",
    "\n",
    "print(\"Custom argmin result:\", custom_index)\n",
    "print(\"NumPy argmin result:\", numpy_argmin)\n"
   ]
  }
 ],
 "metadata": {
  "kernelspec": {
   "display_name": "Python 3",
   "language": "python",
   "name": "python3"
  },
  "language_info": {
   "codemirror_mode": {
    "name": "ipython",
    "version": 3
   },
   "file_extension": ".py",
   "mimetype": "text/x-python",
   "name": "python",
   "nbconvert_exporter": "python",
   "pygments_lexer": "ipython3",
   "version": "3.11.4"
  }
 },
 "nbformat": 4,
 "nbformat_minor": 2
}
